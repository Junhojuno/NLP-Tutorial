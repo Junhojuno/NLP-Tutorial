{
 "cells": [
  {
   "cell_type": "code",
   "execution_count": 2,
   "metadata": {},
   "outputs": [],
   "source": [
    "from gensim.models import Word2Vec\n",
    "from sklearn.cluster import KMeans\n",
    "from sklearn.ensemble import RandomForestClassifier\n",
    "\n",
    "from bs4 import BeautifulSoup\n",
    "import re, time\n",
    "\n",
    "from nltk.corpus import stopwords\n",
    "import nltk.data\n",
    "\n",
    "%matplotlib inline"
   ]
  },
  {
   "cell_type": "code",
   "execution_count": 3,
   "metadata": {},
   "outputs": [
    {
     "data": {
      "text/plain": [
       "<gensim.models.word2vec.Word2Vec at 0x20ee6f39ac8>"
      ]
     },
     "execution_count": 3,
     "metadata": {},
     "output_type": "execute_result"
    }
   ],
   "source": [
    "model = Word2Vec.load(\"300features_40minwords_10context\")\n",
    "model"
   ]
  },
  {
   "cell_type": "code",
   "execution_count": 5,
   "metadata": {},
   "outputs": [
    {
     "name": "stderr",
     "output_type": "stream",
     "text": [
      "C:\\ProgramData\\Anaconda3\\lib\\site-packages\\ipykernel_launcher.py:5: DeprecationWarning: Call to deprecated `syn0` (Attribute will be removed in 4.0.0, use self.wv.vectors instead).\n",
      "  \"\"\"\n"
     ]
    },
    {
     "data": {
      "text/plain": [
       "numpy.ndarray"
      ]
     },
     "execution_count": 5,
     "metadata": {},
     "output_type": "execute_result"
    }
   ],
   "source": [
    "# Word2Vec 모델은 각 단어에 대한 feature 벡터로 구성되며,\n",
    "# 'syn0'라는 numpy배열로 저장된다.\n",
    "# syn0의 행 수는 모델 어휘의 갯수\n",
    "# 컬럼 수는 part2에서 설정한 feature 벡터의 크기(300)\n",
    "type(model.wv.syn0)"
   ]
  },
  {
   "cell_type": "code",
   "execution_count": 6,
   "metadata": {},
   "outputs": [
    {
     "name": "stderr",
     "output_type": "stream",
     "text": [
      "C:\\ProgramData\\Anaconda3\\lib\\site-packages\\ipykernel_launcher.py:1: DeprecationWarning: Call to deprecated `syn0` (Attribute will be removed in 4.0.0, use self.wv.vectors instead).\n",
      "  \"\"\"Entry point for launching an IPython kernel.\n"
     ]
    },
    {
     "data": {
      "text/plain": [
       "(11986, 300)"
      ]
     },
     "execution_count": 6,
     "metadata": {},
     "output_type": "execute_result"
    }
   ],
   "source": [
    "model.wv.syn0.shape"
   ]
  },
  {
   "cell_type": "code",
   "execution_count": 12,
   "metadata": {},
   "outputs": [
    {
     "data": {
      "text/plain": [
       "array([ 0.00938735, -0.03342411, -0.00440804,  0.03798687, -0.05661752,\n",
       "        0.02456402,  0.07103297, -0.0915316 , -0.07032849,  0.0316743 ],\n",
       "      dtype=float32)"
      ]
     },
     "execution_count": 12,
     "metadata": {},
     "output_type": "execute_result"
    }
   ],
   "source": [
    "model.wv['flower'][:10]"
   ]
  },
  {
   "cell_type": "code",
   "execution_count": 13,
   "metadata": {},
   "outputs": [
    {
     "name": "stderr",
     "output_type": "stream",
     "text": [
      "C:\\ProgramData\\Anaconda3\\lib\\site-packages\\ipykernel_launcher.py:2: DeprecationWarning: Call to deprecated `syn0` (Attribute will be removed in 4.0.0, use self.wv.vectors instead).\n",
      "  \n",
      "C:\\ProgramData\\Anaconda3\\lib\\site-packages\\sklearn\\metrics\\pairwise.py:257: RuntimeWarning: invalid value encountered in sqrt\n",
      "  return distances if squared else np.sqrt(distances, out=distances)\n"
     ]
    }
   ],
   "source": [
    "# 클러스터의 크기 'k'를 어휘 크기의 1/5 이나 평균 5단어로 설정한다. \n",
    "word_vectors = model.wv.syn0\n",
    "num_clusters = word_vectors.shape[0] / 5\n",
    "num_clusters = int(num_clusters)\n",
    "\n",
    "# k-means를 정의하고 학습시킨다.\n",
    "kmeans_clustering = KMeans(n_clusters=num_clusters)\n",
    "idx = kmeans_clustering.fit_predict(word_vectors)"
   ]
  },
  {
   "cell_type": "code",
   "execution_count": 14,
   "metadata": {},
   "outputs": [
    {
     "data": {
      "text/plain": [
       "array([1162,  475, 1339, ...,  398,  333,  342])"
      ]
     },
     "execution_count": 14,
     "metadata": {},
     "output_type": "execute_result"
    }
   ],
   "source": [
    "idx"
   ]
  },
  {
   "cell_type": "code",
   "execution_count": 17,
   "metadata": {},
   "outputs": [
    {
     "data": {
      "text/plain": [
       "11986"
      ]
     },
     "execution_count": 17,
     "metadata": {},
     "output_type": "execute_result"
    }
   ],
   "source": [
    "len(model.wv.index2word)"
   ]
  },
  {
   "cell_type": "code",
   "execution_count": 18,
   "metadata": {},
   "outputs": [
    {
     "name": "stdout",
     "output_type": "stream",
     "text": [
      "\n",
      "Cluster 0\n",
      "['duval', 'mitchum', 'deniro', 'stack', 'wagner', 'englund', 'montgomeri', 'downey', 'redford', 'culp', 'morley', 'forster', 'carlyl']\n",
      "\n",
      "Cluster 1\n",
      "['monitor', 'surveil']\n",
      "\n",
      "Cluster 2\n",
      "['univers', 'ancient', 'greek', 'roman', 'mystic', 'futurist', 'forbidden', 'mediev', 'egyptian', 'mythic', 'egypt', 'frontier', 'splendor', 'aztec', 'geisha', 'gulliv', 'folklor', 'loch', 'celtic', 'laputa', 'kell', 'zu', 'arthurian']\n",
      "\n",
      "Cluster 3\n",
      "['bonni', 'tyler', 'cum', 'lauri', 'jen', 'manson', 'roberta', 'maud', 'gavin', 'jenkin', 'tess', 'muriel', 'jaim', 'strode', 'tammi']\n",
      "\n",
      "Cluster 4\n",
      "['trap', 'properti', 'shelter', 'luxuri', 'retreat', 'refug', 'monasteri', 'harbour', 'solitari']\n",
      "\n",
      "Cluster 5\n",
      "['hartley', 'shear', 'kamal', 'roeg', 'josef', 'chiefli', 'deaden', 'alberto']\n",
      "\n",
      "Cluster 6\n",
      "['clich', 'thin', 'trite', 'banal', 'ridden', 'hackney', 'transpar', 'nonexist', 'telegraph', 'mishmash', 'threadbar']\n",
      "\n",
      "Cluster 7\n",
      "['honesti']\n",
      "\n",
      "Cluster 8\n",
      "['idl', 'erik', 'cal', 'cortez', 'calvin', 'stewardess', 'skinner']\n",
      "\n",
      "Cluster 9\n",
      "['treatment', 'virtu', 'downfal', 'defect', 'testimoni', 'nobil', 'leadership', 'disagr', 'treason', 'strife']\n"
     ]
    }
   ],
   "source": [
    "# 각 단어를 클러스터 번호에 매핑되게 word/Index 사전을 만든다.\n",
    "idx = list(idx)\n",
    "names = model.wv.index2word\n",
    "word_centroid_map = {names[i]: idx[i] for i in range(len(names))}\n",
    "\n",
    "# 1번째 클러스터의 첫 10개 출력\n",
    "for cluster in range(0,10):\n",
    "    # 클러스터 번호 출력\n",
    "    print(\"\\nCluster {}\".format(cluster))\n",
    "    \n",
    "    # 클러스터 번호와 클러스터에 있는 단어를 찍는다.\n",
    "    words = []\n",
    "    for i in range(0, len(list(word_centroid_map.values()))):\n",
    "        if (list(word_centroid_map.values())[i] == cluster) : \n",
    "            words.append(list(word_centroid_map.keys())[i])\n",
    "    print(words)"
   ]
  },
  {
   "cell_type": "code",
   "execution_count": null,
   "metadata": {},
   "outputs": [],
   "source": []
  }
 ],
 "metadata": {
  "kernelspec": {
   "display_name": "Python 3",
   "language": "python",
   "name": "python3"
  },
  "language_info": {
   "codemirror_mode": {
    "name": "ipython",
    "version": 3
   },
   "file_extension": ".py",
   "mimetype": "text/x-python",
   "name": "python",
   "nbconvert_exporter": "python",
   "pygments_lexer": "ipython3",
   "version": "3.6.6"
  }
 },
 "nbformat": 4,
 "nbformat_minor": 2
}
